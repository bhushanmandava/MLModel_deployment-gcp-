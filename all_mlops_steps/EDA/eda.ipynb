{
 "cells": [],
 "metadata": {
  "kernelspec": {
   "display_name": "mlflow-0081bd31dc109e9e1e6f69dc8583615769a944cf",
   "language": "python",
   "name": "python3"
  },
  "language_info": {
   "name": "python",
   "version": "3.8.20"
  }
 },
 "nbformat": 4,
 "nbformat_minor": 2
}
